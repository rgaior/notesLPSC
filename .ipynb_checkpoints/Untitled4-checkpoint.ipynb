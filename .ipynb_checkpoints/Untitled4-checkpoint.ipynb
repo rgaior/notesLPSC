{
 "cells": [
  {
   "cell_type": "code",
   "execution_count": 299,
   "metadata": {
    "collapsed": false
   },
   "outputs": [
    {
     "name": "stdout",
     "output_type": "stream",
     "text": [
      "The autoreload extension is already loaded. To reload it, use:\n",
      "  %reload_ext autoreload\n"
     ]
    }
   ],
   "source": [
    "%load_ext autoreload\n",
    "%autoreload 2\n",
    "#new way to load data\n",
    "# the basic cuts are already in the select leaf\n",
    "%matplotlib inline \n",
    "srcpwd = '/Users/romain/work/Auger/EASIER/LPSC/monitoring/script'\n",
    "utilspath =srcpwd + '/utils/'\n",
    "sys.path.append(utilspath)\n",
    "import utils\n",
    "classpath = srcpwd + '/classes/'\n",
    "sys.path.append(classpath)\n",
    "import dataset\n",
    "datafolder = '/Users/romain/work/Auger/EASIER/LPSC/monitoring/data/'\n",
    "#fname = 'Antenna_2014-01-01_2014-01-30.root'\n",
    "#fnameGD = 'GIGADuck/Antenna_2016-01-01_2016-01-31.root'\n",
    "fnameGD = 'GIGADuck/Antenna_2015-03-15_2015-05-30.root'\n",
    "fileGD = datafolder + fnameGD\n",
    "dataGD = dataset.Dataset(fileGD)\n",
    "dataGD.loaddata()\n",
    "pfile = '/Users/romain/work/Auger/EASIER/LPSC/suntransit/data/period/controlperiod_Tsys_50K_below_2adc.txt'\n",
    "dataGD.loadperiod(pfile) \n",
    "\n",
    "#fnameEA = 'easier7/Antenna_2016-01-01_2016-01-31.root'\n",
    "fnameEA = 'easier7/Antenna_2015-03-15_2015-05-30.root'\n",
    "fileEA = datafolder + fnameEA\n",
    "dataEA = dataset.Dataset(fileEA)\n",
    "dataEA.loaddata()\n",
    "pfile = '/Users/romain/work/Auger/EASIER/LPSC/suntransit/data/period/controlperiod_Tsys_50K_below_2adc.txt'\n",
    "dataEA.loadperiod(pfile) \n"
   ]
  },
  {
   "cell_type": "code",
   "execution_count": 406,
   "metadata": {
    "collapsed": false
   },
   "outputs": [],
   "source": [
    "dataGD1 = dataGD.getnewdatawithid(433)\n",
    "dataGD1.selectleafs()\n",
    "dataGD1.filterHP(1.)\n",
    "dataGD1.tempcorrection(1)"
   ]
  },
  {
   "cell_type": "code",
   "execution_count": 401,
   "metadata": {
    "collapsed": false
   },
   "outputs": [],
   "source": [
    "#load the data for 343\n",
    "dataEA1 = dataEA.getnewdatawithid(333)\n",
    "dataEA1.selectleafs()\n",
    "dataEA1.filterHP(1.)\n",
    "dataEA1.tempcorrection(1)"
   ]
  },
  {
   "cell_type": "code",
   "execution_count": 408,
   "metadata": {
    "collapsed": false,
    "scrolled": false
   },
   "outputs": [
    {
     "name": "stdout",
     "output_type": "stream",
     "text": [
      "[]\n",
      "am fit =  [-1.40608171 -0.71082732]\n",
      " pm fit =  [-1.62568888 -0.22746234]\n",
      "AM mean hum =  69.3229\n",
      "PM mean hum =  15.8076\n",
      "[]\n",
      "[]\n",
      "am fit =  [-0.87698005 -4.47826305]\n",
      " pm fit =  [-1.82057807 -1.30803266]\n",
      "AM mean hum =  30.5295\n",
      "PM mean hum =  31.6316\n",
      "[]\n",
      "am fit =  [-1.42518394 -1.64266501]\n",
      " pm fit =  [-1.66380539  0.88134377]\n",
      "AM mean hum =  72.8753\n",
      "PM mean hum =  28.5916\n",
      "[]\n",
      "[]\n",
      "am fit =  [-1.05562913 -1.83929875]\n",
      " pm fit =  [ -0.06283842  11.51009926]\n",
      "AM mean hum =  75.2746\n",
      "PM mean hum =  51.1563\n",
      "[]\n",
      "[]\n",
      "[]\n",
      "am fit =  [-1.43817456 -0.99769982]\n",
      " pm fit =  [-0.83060705  7.02293238]\n",
      "AM mean hum =  77.0509\n",
      "PM mean hum =  42.8018\n",
      "[]\n",
      "am fit =  [-1.4846977  -0.12881698]\n",
      " pm fit =  [-1.19265344  3.45083313]\n",
      "AM mean hum =  82.6781\n",
      "PM mean hum =  52.8192\n",
      "[]\n",
      "am fit =  [-0.9687973  -2.67401653]\n",
      " pm fit =  [-1.07388641  3.94360859]\n",
      "AM mean hum =  68.6463\n",
      "PM mean hum =  50.5172\n",
      "[]\n",
      "[]\n",
      "[]\n",
      "[]\n",
      "am fit =  [-0.97552981 -1.47360162]\n",
      " pm fit =  [-1.0467658   1.31394315]\n",
      "AM mean hum =  64.4105\n",
      "PM mean hum =  54.6663\n",
      "[]\n",
      "am fit =  [-1.4478407   0.12227303]\n",
      " pm fit =  [-1.12301925  2.55240342]\n",
      "AM mean hum =  84.7309\n",
      "PM mean hum =  31.065\n",
      "[]\n",
      "[]\n",
      "[]\n",
      "[]\n",
      "[]\n",
      "am fit =  [-0.78090107 -2.94782345]\n",
      " pm fit =  [-1.15571927  1.28742114]\n",
      "AM mean hum =  67.8028\n",
      "PM mean hum =  28.7163\n",
      "[]\n",
      "[]\n",
      "am fit =  [-1.95031086  3.82327181]\n",
      " pm fit =  [-1.46562464 -1.14047198]\n",
      "AM mean hum =  69.6514\n",
      "PM mean hum =  25.1326\n",
      "[]\n",
      "am fit =  [-1.0747775  -1.32077756]\n",
      " pm fit =  [-1.28473075 -0.09152055]\n",
      "AM mean hum =  51.0556\n",
      "PM mean hum =  21.5702\n",
      "[]\n",
      "am fit =  [-0.21314713 -7.32595199]\n",
      " pm fit =  [-1.39238802 -3.28959389]\n",
      "AM mean hum =  61.6466\n",
      "PM mean hum =  26.8022\n",
      "[]\n",
      "am fit =  [-1.17441311 -0.8622782 ]\n",
      " pm fit =  [-1.16730095  2.49084918]\n",
      "AM mean hum =  57.053\n",
      "PM mean hum =  31.2244\n",
      "[]\n",
      "am fit =  [-1.03712029 -1.98849615]\n",
      " pm fit =  [-0.57119188  5.67206702]\n",
      "AM mean hum =  62.8927\n",
      "PM mean hum =  50.9492\n",
      "[]\n",
      "[]\n"
     ]
    },
    {
     "data": {
      "text/plain": [
       "[<matplotlib.lines.Line2D at 0x1295dcb50>]"
      ]
     },
     "execution_count": 408,
     "metadata": {},
     "output_type": "execute_result"
    },
    {
     "data": {
      "image/png": "[encoded data removed]",
      "text/plain": [
       "<matplotlib.figure.Figure at 0x128ca8dd0>"
      ]
     },
     "metadata": {},
     "output_type": "display_data"
    },
    {
     "data": {
      "image/png": "[encoded data removed]",
      "text/plain": [
       "<matplotlib.figure.Figure at 0x117dfa710>"
      ]
     },
     "metadata": {},
     "output_type": "display_data"
    },
    {
     "data": {
      "image/png": "[encoded data removed]",
      "text/plain": [
       "<matplotlib.figure.Figure at 0x117ac9f10>"
      ]
     },
     "metadata": {},
     "output_type": "display_data"
    }
   ],
   "source": [
    "fig = plt.figure(figsize = (8,6))\n",
    "ax1 = plt.subplot(111)\n",
    "fig2 = plt.figure(figsize = (8,6))\n",
    "ax2 = plt.subplot(111)\n",
    "ampmlim = 1500\n",
    "slopeam = np.array([])\n",
    "slopepm = np.array([])\n",
    "humam = np.array([])\n",
    "humpm = np.array([])\n",
    "pressuream = np.array([])\n",
    "pressurepm = np.array([])\n",
    "\n",
    "tempam = np.array([])\n",
    "temppm = np.array([])\n",
    "\n",
    "\n",
    "\n",
    "\n",
    "for iday in range(1,30):\n",
    "    t0 = utils.datettotimestamp(datetime.datetime(2015,4,iday,00,00,00))\n",
    "    t1 = utils.datettotimestamp(datetime.datetime(2015,4,iday,23,00,00))\n",
    "    ndataGD = dataGD1.getnewdataset(t0,t1) \n",
    "    ndataEA = dataEA1.getnewdataset(t0,t1) \n",
    "    difflim = 20\n",
    "    nosuncondGD = np.where( (ndataGD.hhmm < ampmlim) )\n",
    "    nosuncondEA = np.where( (ndataEA.hhmm < ampmlim) )\n",
    "\n",
    "    suncondGD = np.where( (ndataGD.hhmm > ampmlim) )\n",
    "    suncondEA = np.where( (ndataEA.hhmm > ampmlim) )\n",
    "\n",
    "    nosundataGD = ndataGD.getnewdatasetcond(nosuncondGD) \n",
    "    nosundataEA = ndataEA.getnewdatasetcond(nosuncondEA) \n",
    "\n",
    "    sundataGD = ndataGD.getnewdatasetcond(suncondGD) \n",
    "    sundataEA = ndataEA.getnewdatasetcond(suncondEA) \n",
    "\n",
    "    if ( len(nosundataGD.radio) != len(nosundataEA.radio) ) or (len(sundataGD.radio) != len(sundataEA.radio) ) or ( len(nosundataGD.radio) == 0 ) or ( len(nosundataEA.radio) == 0 ):\n",
    "            continue\n",
    "\n",
    "\n",
    "    fit = np.polyfit(nosundataGD.radio,nosundataEA.radio,1)\n",
    "    pfit = np.poly1d(fit)\n",
    "    print 'am fit = ', fit\n",
    "    fit1 = np.polyfit(sundataGD.radio,sundataEA.radio,1)\n",
    "    pfit1 = np.poly1d(fit1)\n",
    "    print  ' pm fit = ', fit1\n",
    "\n",
    "    print 'AM mean hum = ', np.mean(nosundataGD.humLL)\n",
    "    print 'PM mean hum = ', np.mean(sundataGD.humLL)\n",
    "\n",
    "    slopeam = np.append(slopeam,fit[0])\n",
    "    slopepm = np.append(slopepm,fit1[0])\n",
    "    humam = np.append(humam,np.mean(nosundataGD.humLL))\n",
    "    humpm = np.append(humpm,np.mean(sundataGD.humLL))\n",
    "    pressuream = np.append(pressuream,np.mean(nosundataGD.pressureLL))\n",
    "    pressurepm = np.append(pressurepm,np.mean(sundataGD.pressureLL))\n",
    "    tempam = np.append(tempam,np.mean(nosundataGD.tempLL))\n",
    "    temppm = np.append(temppm,np.mean(sundataGD.tempLL))\n",
    "\n",
    "\n",
    "    \n",
    "\n",
    "    #ax1.plot(nosundataGD.radio,nosundataEA.radio,'.')\n",
    "    ax1.plot(nosundataGD.radio,pfit(nosundataGD.radio))\n",
    "\n",
    "#ax1.plot(sundataGD.radio,sundataEA.radio,'.')\n",
    "#ax1.plot(sundataGD.radio,pfit1(sundataGD.radio))\n",
    "\n",
    "\n",
    "\n",
    "#ax2 = plt.subplot(132)\n",
    "    ax2.plot(sundataGD.radio,pfit1(sundataGD.radio))\n",
    "    #ax2.plot(nosundataGD.hhmm,pfit(nosundataGD.radio))\n",
    "#ax2.plot(nosundataEA.hhmm,nosundataEA.radio)\n",
    "\n",
    "#ax3 = plt.subplot(133)\n",
    "#ax3.plot(sundataGD.hhmm,pfit(sundataGD.radio))\n",
    "#ax3.plot(sundataEA.hhmm,sundataEA.radio)\n",
    "\n",
    "#fig2 = plt.figure()\n",
    "#bins = np.linspace(0,100,100)\n",
    "#plt.plot(sundataGD.humLL,sundataGD.radio)\n",
    "#plt.hist(nosundataEA.humLL,histtype='step',bins=bins)\n",
    "fig3  = plt.figure()\n",
    "plt.plot(pressuream,slopeam,'o')\n",
    "plt.plot(pressurepm,slopepm,'o')\n",
    "#plt.plot(slopeam,slopepm,'o')"
   ]
  },
  {
   "cell_type": "code",
   "execution_count": 23,
   "metadata": {
    "collapsed": false
   },
   "outputs": [
    {
     "name": "stdout",
     "output_type": "stream",
     "text": [
      "15531   15532\n"
     ]
    },
    {
     "data": {
      "text/plain": [
       "[<matplotlib.lines.Line2D at 0x11d6dc8d0>]"
      ]
     },
     "execution_count": 23,
     "metadata": {},
     "output_type": "execute_result"
    },
    {
     "data": {
      "image/png": "[encoded data removed]",
      "text/plain": [
       "<matplotlib.figure.Figure at 0x11c505a10>"
      ]
     },
     "metadata": {},
     "output_type": "display_data"
    }
   ],
   "source": [
    "print len(dataEA1.radio[:-17]), ' ' , len(dataGD1.radio)\n",
    "plt.plot(dataEA1.radio[:-16],dataGD1.radio,'.')"
   ]
  },
  {
   "cell_type": "code",
   "execution_count": null,
   "metadata": {
    "collapsed": true
   },
   "outputs": [],
   "source": [
    "print len(ndataEA.date), ' ', len(ndataEA.radio)\n",
    "print len(ndataGD.date), ' ', len(ndataGD.radio)\n",
    "fig = plt.figure(figsize=(16,5))\n",
    "points = len(ndataEA.radio) - len(ndataGD.radio)\n",
    "print points\n",
    "fitorder = 1\n",
    "#fit = np.polyfit(ndataGD.radio,ndataEA.radio[:-3],1)\n",
    "if points == 0:\n",
    "    fit = np.polyfit(ndataGD.radio,ndataEA.radio,fitorder)\n",
    "    pfit = np.poly1d(fit)\n",
    "#    print ndataGD.radio, ' ', ndataEA.radio\n",
    "    print pfit\n",
    "    newradio = ndataEA.radio - pfit(ndataGD.radio)\n",
    " #   plt.plot(ndataEA.hhmm,newradio,'.')\n",
    "if points < 0:\n",
    "    fit = np.polyfit(ndataGD.radio[:points],ndataEA.radio,fitorder)\n",
    "    pfit = np.poly1d(fit)\n",
    "    print pfit\n",
    "    newradio = ndataEA.radio - pfit(ndataGD.radio[:points])\n",
    "#    plt.plot(ndataEA.hhmm,newradio,'.')\n",
    "if points > 0:\n",
    "    fit = np.polyfit(ndataGD.radio,ndataEA.radio[:-np.absolute(points)],fitorder)\n",
    "    pfit = np.poly1d(fit)\n",
    "    print pfit\n",
    "    newradio = ndataEA.radio[:-np.absolute(points)] - pfit(ndataGD.radio)\n",
    "#    plt.plot(ndataEA.hhmm[:-np.absolute(points)],newradio,'.')\n",
    "\n",
    "\n",
    "\n",
    "print pfit\n",
    "plt.plot(ndataEA.radio,'.-')\n",
    "plt.plot(ndataGD.radio,'.-')\n",
    "\n",
    "\n",
    "#plt.plot(ndataEA.hhmm,ndataEA.radio,'.-')\n",
    "#plt.plot(ndataGD.hhmm,ndataGD.radio,'.-')\n",
    "#plt.plot(ndataEA.radio,ndataGD.radio,'.')\n",
    "\n",
    "#plt.scatter(ndataGD.radio,ndataEA.radio,marker='.',s=150, linewidths=1, c =ndataGD.hhmm, cmap=plt.cm.coolwarm)\n",
    "#plt.scatter(ndataGD.radio,ndataEA.radio,marker='.',s=150, linewidths=1, c =ndataGD.hhmm, cmap=plt.cm.coolwarm)\n",
    "#plt.colorbar()\n",
    "#plt.plot(ndataGD.radio,pfit(ndataGD.radio),'.')\n",
    "\n",
    "#plt.plot(ndataGD.hhmm,newradio,'.')\n",
    "\n",
    "\n",
    "#plt.plot(ndataGD.hhmm,ndataGD.radioc,'.')\n",
    "#plt.plot(ndataGD.radioc,ndataEA.radioc,'.')\n",
    "#plt.plot(ndataGD.radioc,pfit(ndataGD.radioc))\n",
    "#plt.plot(ndataGD.radioc,ndataEA.radioc[:np.absolute(points)],'.')\n",
    "#plt.plot(ndataGD.radioc,ndataEA.radioc,'.')\n",
    "\n",
    "#plt.plot(ndataGD.date,ndataGD.radioc,'.')\n",
    "#plt.ylim(-20,20)\n",
    "#plt.xlim(-100,100)"
   ]
  }
 ],
 "metadata": {
  "kernelspec": {
   "display_name": "Python 2",
   "language": "python",
   "name": "python2"
  },
  "language_info": {
   "codemirror_mode": {
    "name": "ipython",
    "version": 2
   },
   "file_extension": ".py",
   "mimetype": "text/x-python",
   "name": "python",
   "nbconvert_exporter": "python",
   "pygments_lexer": "ipython2",
   "version": "2.7.10"
  }
 },
 "nbformat": 4,
 "nbformat_minor": 0
}
