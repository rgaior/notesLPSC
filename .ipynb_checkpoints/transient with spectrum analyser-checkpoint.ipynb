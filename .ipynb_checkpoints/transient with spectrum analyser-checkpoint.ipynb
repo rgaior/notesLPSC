{
 "cells": [
  {
   "cell_type": "markdown",
   "metadata": {},
   "source": [
    "# devices"
   ]
  },
  {
   "cell_type": "markdown",
   "metadata": {},
   "source": [
    "- signal generator: Agilent N5181A\n",
    "- spectrum analyser: RS FSH6 (100kHz - 6 GHz)"
   ]
  },
  {
   "cell_type": "markdown",
   "metadata": {},
   "source": [
    "# basics"
   ]
  },
  {
   "cell_type": "markdown",
   "metadata": {},
   "source": [
    "we start the note with basic measurements:"
   ]
  },
  {
   "cell_type": "markdown",
   "metadata": {},
   "source": [
    "##power measurement / RBW"
   ]
  },
  {
   "cell_type": "markdown",
   "metadata": {},
   "source": [
    "setup: \n",
    "- SG-->SA\n",
    "- $\\rm F_{emit}$ = 1GHz / CW / P = -10dBm"
   ]
  },
  {
   "cell_type": "markdown",
   "metadata": {},
   "source": [
    "data:s1"
   ]
  },
  {
   "cell_type": "markdown",
   "metadata": {},
   "source": [
    "- $\\rm F_{emit}$ = 1GHz / **pulse (500ns/1us)** / P = -10dBm"
   ]
  },
  {
   "cell_type": "markdown",
   "metadata": {},
   "source": [
    "data: s2"
   ]
  },
  {
   "cell_type": "markdown",
   "metadata": {},
   "source": [
    "- $\\rm F_{emit}$ = 1GHz / **pulse (100ns/1us)** / P = -10dBm"
   ]
  },
  {
   "cell_type": "markdown",
   "metadata": {},
   "source": [
    "data: s3"
   ]
  },
  {
   "cell_type": "code",
   "execution_count": null,
   "metadata": {
    "collapsed": true
   },
   "outputs": [],
   "source": []
  }
 ],
 "metadata": {
  "kernelspec": {
   "display_name": "Python 2",
   "language": "python",
   "name": "python2"
  },
  "language_info": {
   "codemirror_mode": {
    "name": "ipython",
    "version": 2
   },
   "file_extension": ".py",
   "mimetype": "text/x-python",
   "name": "python",
   "nbconvert_exporter": "python",
   "pygments_lexer": "ipython2",
   "version": "2.7.10"
  }
 },
 "nbformat": 4,
 "nbformat_minor": 0
}
